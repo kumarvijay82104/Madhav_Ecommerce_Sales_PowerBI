{
 "cells": [
  {
   "cell_type": "code",
   "execution_count": 1,
   "id": "38c1b3bb-f734-42dc-be0a-1fe8694cb4c1",
   "metadata": {},
   "outputs": [],
   "source": [
    "import pandas as pd\n",
    "import numpy as np\n",
    "import seaborn as sns\n",
    "import matplotlib.pyplot as plt\n",
    "%matplotlib inline"
   ]
  },
  {
   "cell_type": "code",
   "execution_count": 2,
   "id": "d32df0d4-4f65-492a-9ab9-b16647be26cf",
   "metadata": {},
   "outputs": [],
   "source": [
    "df_orders = pd.read_csv('E:\\\\Chrome_Dload\\\\Orders (1).csv',encoding='unicode_escape')"
   ]
  },
  {
   "cell_type": "code",
   "execution_count": 3,
   "id": "a76fc4b3-0a8c-47ee-b8b7-ef75554bd7fd",
   "metadata": {},
   "outputs": [],
   "source": [
    "df_details = pd.read_csv('E:\\\\Chrome_Dload\\\\Details (1).csv')"
   ]
  },
  {
   "cell_type": "code",
   "execution_count": 4,
   "id": "072d9548-a2ce-43e5-bf23-cf0b63ecf3de",
   "metadata": {},
   "outputs": [
    {
     "data": {
      "text/html": [
       "<div>\n",
       "<style scoped>\n",
       "    .dataframe tbody tr th:only-of-type {\n",
       "        vertical-align: middle;\n",
       "    }\n",
       "\n",
       "    .dataframe tbody tr th {\n",
       "        vertical-align: top;\n",
       "    }\n",
       "\n",
       "    .dataframe thead th {\n",
       "        text-align: right;\n",
       "    }\n",
       "</style>\n",
       "<table border=\"1\" class=\"dataframe\">\n",
       "  <thead>\n",
       "    <tr style=\"text-align: right;\">\n",
       "      <th></th>\n",
       "      <th>Order ID</th>\n",
       "      <th>Order Date</th>\n",
       "      <th>CustomerName</th>\n",
       "      <th>State</th>\n",
       "      <th>City</th>\n",
       "    </tr>\n",
       "  </thead>\n",
       "  <tbody>\n",
       "    <tr>\n",
       "      <th>0</th>\n",
       "      <td>B-26055</td>\n",
       "      <td>10-03-2018</td>\n",
       "      <td>Harivansh</td>\n",
       "      <td>Uttar Pradesh</td>\n",
       "      <td>Mathura</td>\n",
       "    </tr>\n",
       "    <tr>\n",
       "      <th>1</th>\n",
       "      <td>B-25993</td>\n",
       "      <td>03-02-2018</td>\n",
       "      <td>Madhav</td>\n",
       "      <td>Delhi</td>\n",
       "      <td>Delhi</td>\n",
       "    </tr>\n",
       "    <tr>\n",
       "      <th>2</th>\n",
       "      <td>B-25973</td>\n",
       "      <td>24-01-2018</td>\n",
       "      <td>Madan Mohan</td>\n",
       "      <td>Uttar Pradesh</td>\n",
       "      <td>Mathura</td>\n",
       "    </tr>\n",
       "    <tr>\n",
       "      <th>3</th>\n",
       "      <td>B-25923</td>\n",
       "      <td>27-12-2018</td>\n",
       "      <td>Gopal</td>\n",
       "      <td>Maharashtra</td>\n",
       "      <td>Mumbai</td>\n",
       "    </tr>\n",
       "    <tr>\n",
       "      <th>4</th>\n",
       "      <td>B-25757</td>\n",
       "      <td>21-08-2018</td>\n",
       "      <td>Vishakha</td>\n",
       "      <td>Madhya Pradesh</td>\n",
       "      <td>Indore</td>\n",
       "    </tr>\n",
       "  </tbody>\n",
       "</table>\n",
       "</div>"
      ],
      "text/plain": [
       "  Order ID  Order Date CustomerName           State     City\n",
       "0  B-26055  10-03-2018    Harivansh   Uttar Pradesh  Mathura\n",
       "1  B-25993  03-02-2018       Madhav           Delhi    Delhi\n",
       "2  B-25973  24-01-2018  Madan Mohan   Uttar Pradesh  Mathura\n",
       "3  B-25923  27-12-2018        Gopal     Maharashtra   Mumbai\n",
       "4  B-25757  21-08-2018     Vishakha  Madhya Pradesh   Indore"
      ]
     },
     "execution_count": 4,
     "metadata": {},
     "output_type": "execute_result"
    }
   ],
   "source": [
    "df_orders.head(5)"
   ]
  },
  {
   "cell_type": "code",
   "execution_count": 5,
   "id": "5d2213de-b184-4ff2-b655-ab84490fbe70",
   "metadata": {
    "scrolled": true
   },
   "outputs": [
    {
     "data": {
      "text/html": [
       "<div>\n",
       "<style scoped>\n",
       "    .dataframe tbody tr th:only-of-type {\n",
       "        vertical-align: middle;\n",
       "    }\n",
       "\n",
       "    .dataframe tbody tr th {\n",
       "        vertical-align: top;\n",
       "    }\n",
       "\n",
       "    .dataframe thead th {\n",
       "        text-align: right;\n",
       "    }\n",
       "</style>\n",
       "<table border=\"1\" class=\"dataframe\">\n",
       "  <thead>\n",
       "    <tr style=\"text-align: right;\">\n",
       "      <th></th>\n",
       "      <th>Order ID</th>\n",
       "      <th>Amount</th>\n",
       "      <th>Profit</th>\n",
       "      <th>Quantity</th>\n",
       "      <th>Category</th>\n",
       "      <th>Sub-Category</th>\n",
       "      <th>PaymentMode</th>\n",
       "    </tr>\n",
       "  </thead>\n",
       "  <tbody>\n",
       "    <tr>\n",
       "      <th>0</th>\n",
       "      <td>B-25681</td>\n",
       "      <td>1096</td>\n",
       "      <td>658</td>\n",
       "      <td>7</td>\n",
       "      <td>Electronics</td>\n",
       "      <td>Electronic Games</td>\n",
       "      <td>COD</td>\n",
       "    </tr>\n",
       "    <tr>\n",
       "      <th>1</th>\n",
       "      <td>B-26055</td>\n",
       "      <td>5729</td>\n",
       "      <td>64</td>\n",
       "      <td>14</td>\n",
       "      <td>Furniture</td>\n",
       "      <td>Chairs</td>\n",
       "      <td>EMI</td>\n",
       "    </tr>\n",
       "    <tr>\n",
       "      <th>2</th>\n",
       "      <td>B-25955</td>\n",
       "      <td>2927</td>\n",
       "      <td>146</td>\n",
       "      <td>8</td>\n",
       "      <td>Furniture</td>\n",
       "      <td>Bookcases</td>\n",
       "      <td>EMI</td>\n",
       "    </tr>\n",
       "    <tr>\n",
       "      <th>3</th>\n",
       "      <td>B-26093</td>\n",
       "      <td>2847</td>\n",
       "      <td>712</td>\n",
       "      <td>8</td>\n",
       "      <td>Electronics</td>\n",
       "      <td>Printers</td>\n",
       "      <td>Credit Card</td>\n",
       "    </tr>\n",
       "    <tr>\n",
       "      <th>4</th>\n",
       "      <td>B-25602</td>\n",
       "      <td>2617</td>\n",
       "      <td>1151</td>\n",
       "      <td>4</td>\n",
       "      <td>Electronics</td>\n",
       "      <td>Phones</td>\n",
       "      <td>Credit Card</td>\n",
       "    </tr>\n",
       "  </tbody>\n",
       "</table>\n",
       "</div>"
      ],
      "text/plain": [
       "  Order ID  Amount  Profit  Quantity     Category      Sub-Category  \\\n",
       "0  B-25681    1096     658         7  Electronics  Electronic Games   \n",
       "1  B-26055    5729      64        14    Furniture            Chairs   \n",
       "2  B-25955    2927     146         8    Furniture         Bookcases   \n",
       "3  B-26093    2847     712         8  Electronics          Printers   \n",
       "4  B-25602    2617    1151         4  Electronics            Phones   \n",
       "\n",
       "   PaymentMode  \n",
       "0          COD  \n",
       "1          EMI  \n",
       "2          EMI  \n",
       "3  Credit Card  \n",
       "4  Credit Card  "
      ]
     },
     "execution_count": 5,
     "metadata": {},
     "output_type": "execute_result"
    }
   ],
   "source": [
    "df_details.head(5)"
   ]
  },
  {
   "cell_type": "code",
   "execution_count": 14,
   "id": "12501d89-3971-4ab5-b1e1-1622abef2a50",
   "metadata": {},
   "outputs": [
    {
     "data": {
      "text/plain": [
       "((1500, 7), (500, 5))"
      ]
     },
     "execution_count": 14,
     "metadata": {},
     "output_type": "execute_result"
    }
   ],
   "source": [
    "df_details.shape,  df_orders.shape"
   ]
  },
  {
   "cell_type": "code",
   "execution_count": 6,
   "id": "a7eace8a-0d6c-4b49-831c-14bba52adf0d",
   "metadata": {},
   "outputs": [
    {
     "name": "stdout",
     "output_type": "stream",
     "text": [
      "<class 'pandas.core.frame.DataFrame'>\n",
      "RangeIndex: 1500 entries, 0 to 1499\n",
      "Data columns (total 7 columns):\n",
      " #   Column        Non-Null Count  Dtype \n",
      "---  ------        --------------  ----- \n",
      " 0   Order ID      1500 non-null   object\n",
      " 1   Amount        1500 non-null   int64 \n",
      " 2   Profit        1500 non-null   int64 \n",
      " 3   Quantity      1500 non-null   int64 \n",
      " 4   Category      1500 non-null   object\n",
      " 5   Sub-Category  1500 non-null   object\n",
      " 6   PaymentMode   1500 non-null   object\n",
      "dtypes: int64(3), object(4)\n",
      "memory usage: 82.2+ KB\n"
     ]
    }
   ],
   "source": [
    "df_details.info()"
   ]
  },
  {
   "cell_type": "code",
   "execution_count": 7,
   "id": "ea1a98be-055b-49cd-b3c8-507d40baf4c8",
   "metadata": {},
   "outputs": [
    {
     "name": "stdout",
     "output_type": "stream",
     "text": [
      "<class 'pandas.core.frame.DataFrame'>\n",
      "RangeIndex: 500 entries, 0 to 499\n",
      "Data columns (total 5 columns):\n",
      " #   Column        Non-Null Count  Dtype \n",
      "---  ------        --------------  ----- \n",
      " 0   Order ID      500 non-null    object\n",
      " 1   Order Date    500 non-null    object\n",
      " 2   CustomerName  500 non-null    object\n",
      " 3   State         500 non-null    object\n",
      " 4   City          500 non-null    object\n",
      "dtypes: object(5)\n",
      "memory usage: 19.7+ KB\n"
     ]
    }
   ],
   "source": [
    "df_orders.info()"
   ]
  },
  {
   "cell_type": "code",
   "execution_count": 19,
   "id": "70d7c601-0c57-487e-a294-0d9a1ccca61c",
   "metadata": {},
   "outputs": [
    {
     "data": {
      "text/plain": [
       "Index(['Order ID', 'Amount', 'Profit', 'Quantity', 'Category', 'Sub-Category',\n",
       "       'PaymentMode'],\n",
       "      dtype='object')"
      ]
     },
     "execution_count": 19,
     "metadata": {},
     "output_type": "execute_result"
    }
   ],
   "source": [
    "df_details.columns"
   ]
  },
  {
   "cell_type": "code",
   "execution_count": 25,
   "id": "61a47699-4ea7-4f10-98dd-069873963e75",
   "metadata": {},
   "outputs": [
    {
     "data": {
      "text/html": [
       "<div>\n",
       "<style scoped>\n",
       "    .dataframe tbody tr th:only-of-type {\n",
       "        vertical-align: middle;\n",
       "    }\n",
       "\n",
       "    .dataframe tbody tr th {\n",
       "        vertical-align: top;\n",
       "    }\n",
       "\n",
       "    .dataframe thead th {\n",
       "        text-align: right;\n",
       "    }\n",
       "</style>\n",
       "<table border=\"1\" class=\"dataframe\">\n",
       "  <thead>\n",
       "    <tr style=\"text-align: right;\">\n",
       "      <th></th>\n",
       "      <th>count</th>\n",
       "      <th>mean</th>\n",
       "      <th>std</th>\n",
       "      <th>min</th>\n",
       "      <th>25%</th>\n",
       "      <th>50%</th>\n",
       "      <th>75%</th>\n",
       "      <th>max</th>\n",
       "    </tr>\n",
       "  </thead>\n",
       "  <tbody>\n",
       "    <tr>\n",
       "      <th>Amount</th>\n",
       "      <td>1500.0</td>\n",
       "      <td>291.847333</td>\n",
       "      <td>461.924620</td>\n",
       "      <td>4.0</td>\n",
       "      <td>47.75</td>\n",
       "      <td>122.0</td>\n",
       "      <td>326.25</td>\n",
       "      <td>5729.0</td>\n",
       "    </tr>\n",
       "    <tr>\n",
       "      <th>Profit</th>\n",
       "      <td>1500.0</td>\n",
       "      <td>24.642000</td>\n",
       "      <td>168.558810</td>\n",
       "      <td>-1981.0</td>\n",
       "      <td>-12.00</td>\n",
       "      <td>8.0</td>\n",
       "      <td>38.00</td>\n",
       "      <td>1864.0</td>\n",
       "    </tr>\n",
       "    <tr>\n",
       "      <th>Quantity</th>\n",
       "      <td>1500.0</td>\n",
       "      <td>3.743333</td>\n",
       "      <td>2.184942</td>\n",
       "      <td>1.0</td>\n",
       "      <td>2.00</td>\n",
       "      <td>3.0</td>\n",
       "      <td>5.00</td>\n",
       "      <td>14.0</td>\n",
       "    </tr>\n",
       "  </tbody>\n",
       "</table>\n",
       "</div>"
      ],
      "text/plain": [
       "           count        mean         std     min    25%    50%     75%     max\n",
       "Amount    1500.0  291.847333  461.924620     4.0  47.75  122.0  326.25  5729.0\n",
       "Profit    1500.0   24.642000  168.558810 -1981.0 -12.00    8.0   38.00  1864.0\n",
       "Quantity  1500.0    3.743333    2.184942     1.0   2.00    3.0    5.00    14.0"
      ]
     },
     "execution_count": 25,
     "metadata": {},
     "output_type": "execute_result"
    }
   ],
   "source": [
    "df_details.describe().transpose()"
   ]
  },
  {
   "cell_type": "code",
   "execution_count": 24,
   "id": "d42d8d44-6a97-44c2-9749-2858b7b55943",
   "metadata": {},
   "outputs": [
    {
     "data": {
      "text/html": [
       "<div>\n",
       "<style scoped>\n",
       "    .dataframe tbody tr th:only-of-type {\n",
       "        vertical-align: middle;\n",
       "    }\n",
       "\n",
       "    .dataframe tbody tr th {\n",
       "        vertical-align: top;\n",
       "    }\n",
       "\n",
       "    .dataframe thead th {\n",
       "        text-align: right;\n",
       "    }\n",
       "</style>\n",
       "<table border=\"1\" class=\"dataframe\">\n",
       "  <thead>\n",
       "    <tr style=\"text-align: right;\">\n",
       "      <th></th>\n",
       "      <th>count</th>\n",
       "      <th>unique</th>\n",
       "      <th>top</th>\n",
       "      <th>freq</th>\n",
       "    </tr>\n",
       "  </thead>\n",
       "  <tbody>\n",
       "    <tr>\n",
       "      <th>Order ID</th>\n",
       "      <td>1500</td>\n",
       "      <td>500</td>\n",
       "      <td>B-26056</td>\n",
       "      <td>12</td>\n",
       "    </tr>\n",
       "    <tr>\n",
       "      <th>Category</th>\n",
       "      <td>1500</td>\n",
       "      <td>3</td>\n",
       "      <td>Clothing</td>\n",
       "      <td>949</td>\n",
       "    </tr>\n",
       "    <tr>\n",
       "      <th>Sub-Category</th>\n",
       "      <td>1500</td>\n",
       "      <td>17</td>\n",
       "      <td>Saree</td>\n",
       "      <td>211</td>\n",
       "    </tr>\n",
       "    <tr>\n",
       "      <th>PaymentMode</th>\n",
       "      <td>1500</td>\n",
       "      <td>5</td>\n",
       "      <td>COD</td>\n",
       "      <td>684</td>\n",
       "    </tr>\n",
       "  </tbody>\n",
       "</table>\n",
       "</div>"
      ],
      "text/plain": [
       "             count unique       top freq\n",
       "Order ID      1500    500   B-26056   12\n",
       "Category      1500      3  Clothing  949\n",
       "Sub-Category  1500     17     Saree  211\n",
       "PaymentMode   1500      5       COD  684"
      ]
     },
     "execution_count": 24,
     "metadata": {},
     "output_type": "execute_result"
    }
   ],
   "source": [
    "df_details.describe(include=object).transpose()"
   ]
  },
  {
   "cell_type": "code",
   "execution_count": 8,
   "id": "510ead27-3691-491d-a64c-70f3ebbf86a5",
   "metadata": {},
   "outputs": [
    {
     "data": {
      "text/plain": [
       "<Axes: >"
      ]
     },
     "execution_count": 8,
     "metadata": {},
     "output_type": "execute_result"
    },
    {
     "data": {
      "image/png": "[encoded data removed]",
      "text/plain": [
       "<Figure size 640x480 with 1 Axes>"
      ]
     },
     "metadata": {},
     "output_type": "display_data"
    }
   ],
   "source": [
    "df_details['Amount'].plot(kind='box')"
   ]
  },
  {
   "cell_type": "code",
   "execution_count": 9,
   "id": "3cfc2c43-456e-46aa-990b-ea8c013ea429",
   "metadata": {},
   "outputs": [
    {
     "data": {
      "text/html": [
       "<div>\n",
       "<style scoped>\n",
       "    .dataframe tbody tr th:only-of-type {\n",
       "        vertical-align: middle;\n",
       "    }\n",
       "\n",
       "    .dataframe tbody tr th {\n",
       "        vertical-align: top;\n",
       "    }\n",
       "\n",
       "    .dataframe thead th {\n",
       "        text-align: right;\n",
       "    }\n",
       "</style>\n",
       "<table border=\"1\" class=\"dataframe\">\n",
       "  <thead>\n",
       "    <tr style=\"text-align: right;\">\n",
       "      <th></th>\n",
       "      <th>Order ID</th>\n",
       "      <th>Amount</th>\n",
       "      <th>Profit</th>\n",
       "      <th>Quantity</th>\n",
       "      <th>Category</th>\n",
       "      <th>Sub-Category</th>\n",
       "      <th>PaymentMode</th>\n",
       "    </tr>\n",
       "  </thead>\n",
       "  <tbody>\n",
       "    <tr>\n",
       "      <th>1</th>\n",
       "      <td>B-26055</td>\n",
       "      <td>5729</td>\n",
       "      <td>64</td>\n",
       "      <td>14</td>\n",
       "      <td>Furniture</td>\n",
       "      <td>Chairs</td>\n",
       "      <td>EMI</td>\n",
       "    </tr>\n",
       "    <tr>\n",
       "      <th>12</th>\n",
       "      <td>B-25923</td>\n",
       "      <td>3873</td>\n",
       "      <td>-891</td>\n",
       "      <td>6</td>\n",
       "      <td>Electronics</td>\n",
       "      <td>Phones</td>\n",
       "      <td>Credit Card</td>\n",
       "    </tr>\n",
       "    <tr>\n",
       "      <th>1496</th>\n",
       "      <td>B-25757</td>\n",
       "      <td>3151</td>\n",
       "      <td>-35</td>\n",
       "      <td>7</td>\n",
       "      <td>Clothing</td>\n",
       "      <td>Trousers</td>\n",
       "      <td>EMI</td>\n",
       "    </tr>\n",
       "    <tr>\n",
       "      <th>1497</th>\n",
       "      <td>B-25973</td>\n",
       "      <td>4141</td>\n",
       "      <td>1698</td>\n",
       "      <td>13</td>\n",
       "      <td>Electronics</td>\n",
       "      <td>Printers</td>\n",
       "      <td>COD</td>\n",
       "    </tr>\n",
       "    <tr>\n",
       "      <th>1499</th>\n",
       "      <td>B-25993</td>\n",
       "      <td>4363</td>\n",
       "      <td>305</td>\n",
       "      <td>5</td>\n",
       "      <td>Furniture</td>\n",
       "      <td>Tables</td>\n",
       "      <td>EMI</td>\n",
       "    </tr>\n",
       "  </tbody>\n",
       "</table>\n",
       "</div>"
      ],
      "text/plain": [
       "     Order ID  Amount  Profit  Quantity     Category Sub-Category  PaymentMode\n",
       "1     B-26055    5729      64        14    Furniture       Chairs          EMI\n",
       "12    B-25923    3873    -891         6  Electronics       Phones  Credit Card\n",
       "1496  B-25757    3151     -35         7     Clothing     Trousers          EMI\n",
       "1497  B-25973    4141    1698        13  Electronics     Printers          COD\n",
       "1499  B-25993    4363     305         5    Furniture       Tables          EMI"
      ]
     },
     "execution_count": 9,
     "metadata": {},
     "output_type": "execute_result"
    }
   ],
   "source": [
    "df_details[df_details['Amount']> 3000]"
   ]
  },
  {
   "cell_type": "code",
   "execution_count": 10,
   "id": "83348e45-39d7-4194-bca1-7ae796211433",
   "metadata": {},
   "outputs": [
    {
     "data": {
      "text/plain": [
       "<Axes: >"
      ]
     },
     "execution_count": 10,
     "metadata": {},
     "output_type": "execute_result"
    },
    {
     "data": {
      "image/png": "[encoded data removed]",
      "text/plain": [
       "<Figure size 640x480 with 1 Axes>"
      ]
     },
     "metadata": {},
     "output_type": "display_data"
    }
   ],
   "source": [
    "df_details['Quantity'].plot(kind='box')"
   ]
  },
  {
   "cell_type": "code",
   "execution_count": 11,
   "id": "7922ea8e-337d-42c0-ae73-3a31f471aba9",
   "metadata": {},
   "outputs": [
    {
     "data": {
      "text/html": [
       "<div>\n",
       "<style scoped>\n",
       "    .dataframe tbody tr th:only-of-type {\n",
       "        vertical-align: middle;\n",
       "    }\n",
       "\n",
       "    .dataframe tbody tr th {\n",
       "        vertical-align: top;\n",
       "    }\n",
       "\n",
       "    .dataframe thead th {\n",
       "        text-align: right;\n",
       "    }\n",
       "</style>\n",
       "<table border=\"1\" class=\"dataframe\">\n",
       "  <thead>\n",
       "    <tr style=\"text-align: right;\">\n",
       "      <th></th>\n",
       "      <th>Order ID</th>\n",
       "      <th>Amount</th>\n",
       "      <th>Profit</th>\n",
       "      <th>Quantity</th>\n",
       "      <th>Category</th>\n",
       "      <th>Sub-Category</th>\n",
       "      <th>PaymentMode</th>\n",
       "    </tr>\n",
       "  </thead>\n",
       "  <tbody>\n",
       "    <tr>\n",
       "      <th>1492</th>\n",
       "      <td>B-25798</td>\n",
       "      <td>2830</td>\n",
       "      <td>-1981</td>\n",
       "      <td>13</td>\n",
       "      <td>Furniture</td>\n",
       "      <td>Bookcases</td>\n",
       "      <td>EMI</td>\n",
       "    </tr>\n",
       "    <tr>\n",
       "      <th>1299</th>\n",
       "      <td>B-25802</td>\n",
       "      <td>633</td>\n",
       "      <td>-633</td>\n",
       "      <td>11</td>\n",
       "      <td>Electronics</td>\n",
       "      <td>Accessories</td>\n",
       "      <td>UPI</td>\n",
       "    </tr>\n",
       "    <tr>\n",
       "      <th>1085</th>\n",
       "      <td>B-25770</td>\n",
       "      <td>287</td>\n",
       "      <td>-280</td>\n",
       "      <td>12</td>\n",
       "      <td>Furniture</td>\n",
       "      <td>Chairs</td>\n",
       "      <td>UPI</td>\n",
       "    </tr>\n",
       "    <tr>\n",
       "      <th>229</th>\n",
       "      <td>B-25662</td>\n",
       "      <td>385</td>\n",
       "      <td>-77</td>\n",
       "      <td>11</td>\n",
       "      <td>Furniture</td>\n",
       "      <td>Furnishings</td>\n",
       "      <td>UPI</td>\n",
       "    </tr>\n",
       "    <tr>\n",
       "      <th>165</th>\n",
       "      <td>B-25682</td>\n",
       "      <td>545</td>\n",
       "      <td>-73</td>\n",
       "      <td>11</td>\n",
       "      <td>Electronics</td>\n",
       "      <td>Phones</td>\n",
       "      <td>COD</td>\n",
       "    </tr>\n",
       "    <tr>\n",
       "      <th>835</th>\n",
       "      <td>B-25750</td>\n",
       "      <td>42</td>\n",
       "      <td>-15</td>\n",
       "      <td>12</td>\n",
       "      <td>Clothing</td>\n",
       "      <td>Skirt</td>\n",
       "      <td>UPI</td>\n",
       "    </tr>\n",
       "    <tr>\n",
       "      <th>428</th>\n",
       "      <td>B-26055</td>\n",
       "      <td>213</td>\n",
       "      <td>4</td>\n",
       "      <td>14</td>\n",
       "      <td>Clothing</td>\n",
       "      <td>Shirt</td>\n",
       "      <td>COD</td>\n",
       "    </tr>\n",
       "    <tr>\n",
       "      <th>304</th>\n",
       "      <td>B-25642</td>\n",
       "      <td>434</td>\n",
       "      <td>26</td>\n",
       "      <td>11</td>\n",
       "      <td>Clothing</td>\n",
       "      <td>Shirt</td>\n",
       "      <td>Credit Card</td>\n",
       "    </tr>\n",
       "    <tr>\n",
       "      <th>1</th>\n",
       "      <td>B-26055</td>\n",
       "      <td>5729</td>\n",
       "      <td>64</td>\n",
       "      <td>14</td>\n",
       "      <td>Furniture</td>\n",
       "      <td>Chairs</td>\n",
       "      <td>EMI</td>\n",
       "    </tr>\n",
       "    <tr>\n",
       "      <th>1259</th>\n",
       "      <td>B-25973</td>\n",
       "      <td>571</td>\n",
       "      <td>108</td>\n",
       "      <td>12</td>\n",
       "      <td>Clothing</td>\n",
       "      <td>Stole</td>\n",
       "      <td>Debit Card</td>\n",
       "    </tr>\n",
       "    <tr>\n",
       "      <th>1444</th>\n",
       "      <td>B-25793</td>\n",
       "      <td>1402</td>\n",
       "      <td>109</td>\n",
       "      <td>11</td>\n",
       "      <td>Clothing</td>\n",
       "      <td>Saree</td>\n",
       "      <td>EMI</td>\n",
       "    </tr>\n",
       "    <tr>\n",
       "      <th>314</th>\n",
       "      <td>B-26035</td>\n",
       "      <td>291</td>\n",
       "      <td>119</td>\n",
       "      <td>11</td>\n",
       "      <td>Clothing</td>\n",
       "      <td>Saree</td>\n",
       "      <td>COD</td>\n",
       "    </tr>\n",
       "    <tr>\n",
       "      <th>155</th>\n",
       "      <td>B-26019</td>\n",
       "      <td>585</td>\n",
       "      <td>175</td>\n",
       "      <td>13</td>\n",
       "      <td>Clothing</td>\n",
       "      <td>T-shirt</td>\n",
       "      <td>COD</td>\n",
       "    </tr>\n",
       "    <tr>\n",
       "      <th>84</th>\n",
       "      <td>B-25850</td>\n",
       "      <td>916</td>\n",
       "      <td>192</td>\n",
       "      <td>11</td>\n",
       "      <td>Electronics</td>\n",
       "      <td>Phones</td>\n",
       "      <td>COD</td>\n",
       "    </tr>\n",
       "    <tr>\n",
       "      <th>310</th>\n",
       "      <td>B-25745</td>\n",
       "      <td>296</td>\n",
       "      <td>225</td>\n",
       "      <td>11</td>\n",
       "      <td>Clothing</td>\n",
       "      <td>Saree</td>\n",
       "      <td>COD</td>\n",
       "    </tr>\n",
       "    <tr>\n",
       "      <th>52</th>\n",
       "      <td>B-25640</td>\n",
       "      <td>1499</td>\n",
       "      <td>239</td>\n",
       "      <td>13</td>\n",
       "      <td>Clothing</td>\n",
       "      <td>Saree</td>\n",
       "      <td>Credit Card</td>\n",
       "    </tr>\n",
       "    <tr>\n",
       "      <th>1426</th>\n",
       "      <td>B-25964</td>\n",
       "      <td>1270</td>\n",
       "      <td>546</td>\n",
       "      <td>11</td>\n",
       "      <td>Electronics</td>\n",
       "      <td>Electronic Games</td>\n",
       "      <td>EMI</td>\n",
       "    </tr>\n",
       "    <tr>\n",
       "      <th>1490</th>\n",
       "      <td>B-25858</td>\n",
       "      <td>2457</td>\n",
       "      <td>665</td>\n",
       "      <td>11</td>\n",
       "      <td>Electronics</td>\n",
       "      <td>Electronic Games</td>\n",
       "      <td>EMI</td>\n",
       "    </tr>\n",
       "    <tr>\n",
       "      <th>1497</th>\n",
       "      <td>B-25973</td>\n",
       "      <td>4141</td>\n",
       "      <td>1698</td>\n",
       "      <td>13</td>\n",
       "      <td>Electronics</td>\n",
       "      <td>Printers</td>\n",
       "      <td>COD</td>\n",
       "    </tr>\n",
       "  </tbody>\n",
       "</table>\n",
       "</div>"
      ],
      "text/plain": [
       "     Order ID  Amount  Profit  Quantity     Category      Sub-Category  \\\n",
       "1492  B-25798    2830   -1981        13    Furniture         Bookcases   \n",
       "1299  B-25802     633    -633        11  Electronics       Accessories   \n",
       "1085  B-25770     287    -280        12    Furniture            Chairs   \n",
       "229   B-25662     385     -77        11    Furniture       Furnishings   \n",
       "165   B-25682     545     -73        11  Electronics            Phones   \n",
       "835   B-25750      42     -15        12     Clothing             Skirt   \n",
       "428   B-26055     213       4        14     Clothing             Shirt   \n",
       "304   B-25642     434      26        11     Clothing             Shirt   \n",
       "1     B-26055    5729      64        14    Furniture            Chairs   \n",
       "1259  B-25973     571     108        12     Clothing             Stole   \n",
       "1444  B-25793    1402     109        11     Clothing             Saree   \n",
       "314   B-26035     291     119        11     Clothing             Saree   \n",
       "155   B-26019     585     175        13     Clothing           T-shirt   \n",
       "84    B-25850     916     192        11  Electronics            Phones   \n",
       "310   B-25745     296     225        11     Clothing             Saree   \n",
       "52    B-25640    1499     239        13     Clothing             Saree   \n",
       "1426  B-25964    1270     546        11  Electronics  Electronic Games   \n",
       "1490  B-25858    2457     665        11  Electronics  Electronic Games   \n",
       "1497  B-25973    4141    1698        13  Electronics          Printers   \n",
       "\n",
       "      PaymentMode  \n",
       "1492          EMI  \n",
       "1299          UPI  \n",
       "1085          UPI  \n",
       "229           UPI  \n",
       "165           COD  \n",
       "835           UPI  \n",
       "428           COD  \n",
       "304   Credit Card  \n",
       "1             EMI  \n",
       "1259   Debit Card  \n",
       "1444          EMI  \n",
       "314           COD  \n",
       "155           COD  \n",
       "84            COD  \n",
       "310           COD  \n",
       "52    Credit Card  \n",
       "1426          EMI  \n",
       "1490          EMI  \n",
       "1497          COD  "
      ]
     },
     "execution_count": 11,
     "metadata": {},
     "output_type": "execute_result"
    }
   ],
   "source": [
    "df_details[df_details['Quantity']>10].sort_values(by= 'Profit')"
   ]
  },
  {
   "cell_type": "code",
   "execution_count": 12,
   "id": "78b40444-340b-456d-a2df-e312a819aa90",
   "metadata": {},
   "outputs": [
    {
     "data": {
      "text/plain": [
       "<Axes: >"
      ]
     },
     "execution_count": 12,
     "metadata": {},
     "output_type": "execute_result"
    },
    {
     "data": {
      "image/png": "[encoded data removed]",
      "text/plain": [
       "<Figure size 640x480 with 1 Axes>"
      ]
     },
     "metadata": {},
     "output_type": "display_data"
    }
   ],
   "source": [
    "df_details['Profit'].plot(kind='box')"
   ]
  },
  {
   "cell_type": "code",
   "execution_count": 13,
   "id": "f05e8d8d-16cd-48f0-9fb0-429fa1d8321b",
   "metadata": {},
   "outputs": [
    {
     "data": {
      "text/html": [
       "<div>\n",
       "<style scoped>\n",
       "    .dataframe tbody tr th:only-of-type {\n",
       "        vertical-align: middle;\n",
       "    }\n",
       "\n",
       "    .dataframe tbody tr th {\n",
       "        vertical-align: top;\n",
       "    }\n",
       "\n",
       "    .dataframe thead th {\n",
       "        text-align: right;\n",
       "    }\n",
       "</style>\n",
       "<table border=\"1\" class=\"dataframe\">\n",
       "  <thead>\n",
       "    <tr style=\"text-align: right;\">\n",
       "      <th></th>\n",
       "      <th>Order ID</th>\n",
       "      <th>Amount</th>\n",
       "      <th>Profit</th>\n",
       "      <th>Quantity</th>\n",
       "      <th>Category</th>\n",
       "      <th>Sub-Category</th>\n",
       "      <th>PaymentMode</th>\n",
       "    </tr>\n",
       "  </thead>\n",
       "  <tbody>\n",
       "    <tr>\n",
       "      <th>1492</th>\n",
       "      <td>B-25798</td>\n",
       "      <td>2830</td>\n",
       "      <td>-1981</td>\n",
       "      <td>13</td>\n",
       "      <td>Furniture</td>\n",
       "      <td>Bookcases</td>\n",
       "      <td>EMI</td>\n",
       "    </tr>\n",
       "    <tr>\n",
       "      <th>81</th>\n",
       "      <td>B-25666</td>\n",
       "      <td>934</td>\n",
       "      <td>-916</td>\n",
       "      <td>7</td>\n",
       "      <td>Electronics</td>\n",
       "      <td>Electronic Games</td>\n",
       "      <td>COD</td>\n",
       "    </tr>\n",
       "    <tr>\n",
       "      <th>12</th>\n",
       "      <td>B-25923</td>\n",
       "      <td>3873</td>\n",
       "      <td>-891</td>\n",
       "      <td>6</td>\n",
       "      <td>Electronics</td>\n",
       "      <td>Phones</td>\n",
       "      <td>Credit Card</td>\n",
       "    </tr>\n",
       "    <tr>\n",
       "      <th>96</th>\n",
       "      <td>B-25730</td>\n",
       "      <td>1145</td>\n",
       "      <td>-706</td>\n",
       "      <td>3</td>\n",
       "      <td>Electronics</td>\n",
       "      <td>Phones</td>\n",
       "      <td>Credit Card</td>\n",
       "    </tr>\n",
       "    <tr>\n",
       "      <th>91</th>\n",
       "      <td>B-25653</td>\n",
       "      <td>1279</td>\n",
       "      <td>-640</td>\n",
       "      <td>8</td>\n",
       "      <td>Electronics</td>\n",
       "      <td>Printers</td>\n",
       "      <td>EMI</td>\n",
       "    </tr>\n",
       "    <tr>\n",
       "      <th>1299</th>\n",
       "      <td>B-25802</td>\n",
       "      <td>633</td>\n",
       "      <td>-633</td>\n",
       "      <td>11</td>\n",
       "      <td>Electronics</td>\n",
       "      <td>Accessories</td>\n",
       "      <td>UPI</td>\n",
       "    </tr>\n",
       "    <tr>\n",
       "      <th>20</th>\n",
       "      <td>B-25910</td>\n",
       "      <td>1622</td>\n",
       "      <td>-624</td>\n",
       "      <td>5</td>\n",
       "      <td>Furniture</td>\n",
       "      <td>Tables</td>\n",
       "      <td>Credit Card</td>\n",
       "    </tr>\n",
       "  </tbody>\n",
       "</table>\n",
       "</div>"
      ],
      "text/plain": [
       "     Order ID  Amount  Profit  Quantity     Category      Sub-Category  \\\n",
       "1492  B-25798    2830   -1981        13    Furniture         Bookcases   \n",
       "81    B-25666     934    -916         7  Electronics  Electronic Games   \n",
       "12    B-25923    3873    -891         6  Electronics            Phones   \n",
       "96    B-25730    1145    -706         3  Electronics            Phones   \n",
       "91    B-25653    1279    -640         8  Electronics          Printers   \n",
       "1299  B-25802     633    -633        11  Electronics       Accessories   \n",
       "20    B-25910    1622    -624         5    Furniture            Tables   \n",
       "\n",
       "      PaymentMode  \n",
       "1492          EMI  \n",
       "81            COD  \n",
       "12    Credit Card  \n",
       "96    Credit Card  \n",
       "91            EMI  \n",
       "1299          UPI  \n",
       "20    Credit Card  "
      ]
     },
     "execution_count": 13,
     "metadata": {},
     "output_type": "execute_result"
    }
   ],
   "source": [
    "df_details[df_details['Profit'] < -500 ].sort_values(by= 'Profit')"
   ]
  },
  {
   "cell_type": "markdown",
   "id": "5445a9d7-d99e-4faa-ab41-6f425fcf2811",
   "metadata": {},
   "source": [
    "### Sum Of Amount"
   ]
  },
  {
   "cell_type": "code",
   "execution_count": 14,
   "id": "16dfc798-0ddf-421d-8839-849a0915e0ed",
   "metadata": {},
   "outputs": [
    {
     "data": {
      "text/plain": [
       "437771"
      ]
     },
     "execution_count": 14,
     "metadata": {},
     "output_type": "execute_result"
    }
   ],
   "source": [
    "Total_amount = df_details['Amount'].sum()\n",
    "Total_amount"
   ]
  },
  {
   "cell_type": "markdown",
   "id": "053a738c-1124-4738-9b55-45c3367b6622",
   "metadata": {},
   "source": [
    "### Sum Of Profiit"
   ]
  },
  {
   "cell_type": "code",
   "execution_count": 15,
   "id": "3f437f6c-520d-4e55-92f8-5749ae82c867",
   "metadata": {},
   "outputs": [
    {
     "data": {
      "text/plain": [
       "36963"
      ]
     },
     "execution_count": 15,
     "metadata": {},
     "output_type": "execute_result"
    }
   ],
   "source": [
    "Total_profit = df_details['Profit'].sum()\n",
    "Total_profit"
   ]
  },
  {
   "cell_type": "markdown",
   "id": "f15a87dc-6dc0-4a93-9bca-4cb327b3d389",
   "metadata": {},
   "source": [
    "### Sum Of Quantity"
   ]
  },
  {
   "cell_type": "code",
   "execution_count": 16,
   "id": "92c7dc6d-ff9a-4be2-bcbe-8f1bdc40d99f",
   "metadata": {},
   "outputs": [
    {
     "data": {
      "text/plain": [
       "5615"
      ]
     },
     "execution_count": 16,
     "metadata": {},
     "output_type": "execute_result"
    }
   ],
   "source": [
    "Total_quantity = df_details['Quantity'].sum()\n",
    "Total_quantity"
   ]
  },
  {
   "cell_type": "markdown",
   "id": "13f0763c-f6f4-4ba8-8d9b-68c01c3075ea",
   "metadata": {},
   "source": [
    "### Sum Of AOV"
   ]
  },
  {
   "cell_type": "code",
   "execution_count": 17,
   "id": "6016d2aa-e4d6-43d4-99d3-6bf18f181cab",
   "metadata": {},
   "outputs": [
    {
     "data": {
      "text/plain": [
       "77.96455921638469"
      ]
     },
     "execution_count": 17,
     "metadata": {},
     "output_type": "execute_result"
    }
   ],
   "source": [
    "AOV= Total_amount / Total_quantity\n",
    "AOV"
   ]
  },
  {
   "cell_type": "markdown",
   "id": "6fbc034f-1383-432a-9a0c-894c89e24a8d",
   "metadata": {},
   "source": [
    "# Exploratory Data Analysis"
   ]
  },
  {
   "cell_type": "markdown",
   "id": "72a95c10-114c-45b8-aac6-eb7a474f09ff",
   "metadata": {},
   "source": [
    "Merging Both tables "
   ]
  },
  {
   "cell_type": "code",
   "execution_count": 68,
   "id": "f8826831-3965-4452-9b72-f556abf6d385",
   "metadata": {},
   "outputs": [],
   "source": [
    "result_df = pd.merge(df_details, df_orders, on='Order ID')"
   ]
  },
  {
   "cell_type": "code",
   "execution_count": 19,
   "id": "9149238e-b63f-4a80-b615-89909e53846e",
   "metadata": {},
   "outputs": [
    {
     "data": {
      "text/html": [
       "<div>\n",
       "<style scoped>\n",
       "    .dataframe tbody tr th:only-of-type {\n",
       "        vertical-align: middle;\n",
       "    }\n",
       "\n",
       "    .dataframe tbody tr th {\n",
       "        vertical-align: top;\n",
       "    }\n",
       "\n",
       "    .dataframe thead th {\n",
       "        text-align: right;\n",
       "    }\n",
       "</style>\n",
       "<table border=\"1\" class=\"dataframe\">\n",
       "  <thead>\n",
       "    <tr style=\"text-align: right;\">\n",
       "      <th></th>\n",
       "      <th>Order ID</th>\n",
       "      <th>Amount</th>\n",
       "      <th>Profit</th>\n",
       "      <th>Quantity</th>\n",
       "      <th>Category</th>\n",
       "      <th>Sub-Category</th>\n",
       "      <th>PaymentMode</th>\n",
       "      <th>Order Date</th>\n",
       "      <th>CustomerName</th>\n",
       "      <th>State</th>\n",
       "      <th>City</th>\n",
       "    </tr>\n",
       "  </thead>\n",
       "  <tbody>\n",
       "    <tr>\n",
       "      <th>0</th>\n",
       "      <td>B-25681</td>\n",
       "      <td>1096</td>\n",
       "      <td>658</td>\n",
       "      <td>7</td>\n",
       "      <td>Electronics</td>\n",
       "      <td>Electronic Games</td>\n",
       "      <td>COD</td>\n",
       "      <td>04-06-2018</td>\n",
       "      <td>Bhawna</td>\n",
       "      <td>Madhya Pradesh</td>\n",
       "      <td>Indore</td>\n",
       "    </tr>\n",
       "    <tr>\n",
       "      <th>1</th>\n",
       "      <td>B-25681</td>\n",
       "      <td>1625</td>\n",
       "      <td>-77</td>\n",
       "      <td>3</td>\n",
       "      <td>Electronics</td>\n",
       "      <td>Phones</td>\n",
       "      <td>EMI</td>\n",
       "      <td>04-06-2018</td>\n",
       "      <td>Bhawna</td>\n",
       "      <td>Madhya Pradesh</td>\n",
       "      <td>Indore</td>\n",
       "    </tr>\n",
       "    <tr>\n",
       "      <th>2</th>\n",
       "      <td>B-25681</td>\n",
       "      <td>523</td>\n",
       "      <td>204</td>\n",
       "      <td>7</td>\n",
       "      <td>Clothing</td>\n",
       "      <td>Trousers</td>\n",
       "      <td>COD</td>\n",
       "      <td>04-06-2018</td>\n",
       "      <td>Bhawna</td>\n",
       "      <td>Madhya Pradesh</td>\n",
       "      <td>Indore</td>\n",
       "    </tr>\n",
       "    <tr>\n",
       "      <th>3</th>\n",
       "      <td>B-25681</td>\n",
       "      <td>44</td>\n",
       "      <td>-3</td>\n",
       "      <td>1</td>\n",
       "      <td>Clothing</td>\n",
       "      <td>Saree</td>\n",
       "      <td>Debit Card</td>\n",
       "      <td>04-06-2018</td>\n",
       "      <td>Bhawna</td>\n",
       "      <td>Madhya Pradesh</td>\n",
       "      <td>Indore</td>\n",
       "    </tr>\n",
       "    <tr>\n",
       "      <th>4</th>\n",
       "      <td>B-25681</td>\n",
       "      <td>243</td>\n",
       "      <td>-14</td>\n",
       "      <td>2</td>\n",
       "      <td>Furniture</td>\n",
       "      <td>Chairs</td>\n",
       "      <td>COD</td>\n",
       "      <td>04-06-2018</td>\n",
       "      <td>Bhawna</td>\n",
       "      <td>Madhya Pradesh</td>\n",
       "      <td>Indore</td>\n",
       "    </tr>\n",
       "  </tbody>\n",
       "</table>\n",
       "</div>"
      ],
      "text/plain": [
       "  Order ID  Amount  Profit  Quantity     Category      Sub-Category  \\\n",
       "0  B-25681    1096     658         7  Electronics  Electronic Games   \n",
       "1  B-25681    1625     -77         3  Electronics            Phones   \n",
       "2  B-25681     523     204         7     Clothing          Trousers   \n",
       "3  B-25681      44      -3         1     Clothing             Saree   \n",
       "4  B-25681     243     -14         2    Furniture            Chairs   \n",
       "\n",
       "  PaymentMode  Order Date CustomerName           State    City  \n",
       "0         COD  04-06-2018       Bhawna  Madhya Pradesh  Indore  \n",
       "1         EMI  04-06-2018       Bhawna  Madhya Pradesh  Indore  \n",
       "2         COD  04-06-2018       Bhawna  Madhya Pradesh  Indore  \n",
       "3  Debit Card  04-06-2018       Bhawna  Madhya Pradesh  Indore  \n",
       "4         COD  04-06-2018       Bhawna  Madhya Pradesh  Indore  "
      ]
     },
     "execution_count": 19,
     "metadata": {},
     "output_type": "execute_result"
    }
   ],
   "source": [
    "result_df.head()"
   ]
  },
  {
   "cell_type": "code",
   "execution_count": 20,
   "id": "479df5d6-5f94-4be3-b6f1-74ff834824ab",
   "metadata": {},
   "outputs": [
    {
     "data": {
      "text/plain": [
       "(1500, 7)"
      ]
     },
     "execution_count": 20,
     "metadata": {},
     "output_type": "execute_result"
    }
   ],
   "source": [
    "df_details.shape"
   ]
  },
  {
   "cell_type": "code",
   "execution_count": 21,
   "id": "ca400758-4076-4bda-bd91-1062dfbbe79a",
   "metadata": {},
   "outputs": [
    {
     "data": {
      "text/plain": [
       "(500, 5)"
      ]
     },
     "execution_count": 21,
     "metadata": {},
     "output_type": "execute_result"
    }
   ],
   "source": [
    "df_orders.shape"
   ]
  },
  {
   "cell_type": "code",
   "execution_count": 22,
   "id": "b92690f1-10e5-4c42-b14e-25bbb95a5d85",
   "metadata": {},
   "outputs": [
    {
     "data": {
      "text/plain": [
       "(1500, 11)"
      ]
     },
     "execution_count": 22,
     "metadata": {},
     "output_type": "execute_result"
    }
   ],
   "source": [
    "result_df.shape"
   ]
  },
  {
   "cell_type": "code",
   "execution_count": 23,
   "id": "09e2e5ef-3cc0-468e-adf4-ecbd470515a3",
   "metadata": {},
   "outputs": [
    {
     "data": {
      "text/plain": [
       "Index(['Order ID', 'Amount', 'Profit', 'Quantity', 'Category', 'Sub-Category',\n",
       "       'PaymentMode', 'Order Date', 'CustomerName', 'State', 'City'],\n",
       "      dtype='object')"
      ]
     },
     "execution_count": 23,
     "metadata": {},
     "output_type": "execute_result"
    }
   ],
   "source": [
    "result_df.columns"
   ]
  },
  {
   "cell_type": "markdown",
   "id": "fab497a1-8146-4312-b56b-714bee7006a3",
   "metadata": {},
   "source": [
    "### Total Purchase by State"
   ]
  },
  {
   "cell_type": "code",
   "execution_count": 24,
   "id": "e251aea8-7751-4505-be93-47c322346980",
   "metadata": {},
   "outputs": [
    {
     "data": {
      "text/html": [
       "<div>\n",
       "<style scoped>\n",
       "    .dataframe tbody tr th:only-of-type {\n",
       "        vertical-align: middle;\n",
       "    }\n",
       "\n",
       "    .dataframe tbody tr th {\n",
       "        vertical-align: top;\n",
       "    }\n",
       "\n",
       "    .dataframe thead th {\n",
       "        text-align: right;\n",
       "    }\n",
       "</style>\n",
       "<table border=\"1\" class=\"dataframe\">\n",
       "  <thead>\n",
       "    <tr style=\"text-align: right;\">\n",
       "      <th></th>\n",
       "      <th>State</th>\n",
       "      <th>Amount</th>\n",
       "    </tr>\n",
       "  </thead>\n",
       "  <tbody>\n",
       "    <tr>\n",
       "      <th>11</th>\n",
       "      <td>Maharashtra</td>\n",
       "      <td>102498</td>\n",
       "    </tr>\n",
       "    <tr>\n",
       "      <th>10</th>\n",
       "      <td>Madhya Pradesh</td>\n",
       "      <td>87463</td>\n",
       "    </tr>\n",
       "    <tr>\n",
       "      <th>17</th>\n",
       "      <td>Uttar Pradesh</td>\n",
       "      <td>38362</td>\n",
       "    </tr>\n",
       "    <tr>\n",
       "      <th>2</th>\n",
       "      <td>Delhi</td>\n",
       "      <td>22957</td>\n",
       "    </tr>\n",
       "    <tr>\n",
       "      <th>14</th>\n",
       "      <td>Rajasthan</td>\n",
       "      <td>22334</td>\n",
       "    </tr>\n",
       "  </tbody>\n",
       "</table>\n",
       "</div>"
      ],
      "text/plain": [
       "             State  Amount\n",
       "11     Maharashtra  102498\n",
       "10  Madhya Pradesh   87463\n",
       "17   Uttar Pradesh   38362\n",
       "2            Delhi   22957\n",
       "14       Rajasthan   22334"
      ]
     },
     "execution_count": 24,
     "metadata": {},
     "output_type": "execute_result"
    }
   ],
   "source": [
    "Total_purchase_amount_state = result_df.groupby(['State'],as_index=False)['Amount'].sum().sort_values(by='Amount',ascending = False).head(5)\n",
    "Total_purchase_amount_state"
   ]
  },
  {
   "cell_type": "code",
   "execution_count": 25,
   "id": "8bf484c5-5e11-4b05-8049-e875a75caa83",
   "metadata": {},
   "outputs": [
    {
     "data": {
      "image/png": "[encoded data removed]",
      "text/plain": [
       "<Figure size 640x480 with 1 Axes>"
      ]
     },
     "metadata": {},
     "output_type": "display_data"
    }
   ],
   "source": [
    "ax = sns.barplot(x='State',y='Amount',data=Total_purchase_amount_state)\n",
    "ax.bar_label(ax.containers[0],fmt='%.2f',label_type='edge',fontsize=9,color='black')\n",
    "ax.set_xticks(ax.get_xticks())\n",
    "ax.set_xticklabels(ax.get_xticklabels(), rotation=45, horizontalalignment='right')\n",
    "plt.show()"
   ]
  },
  {
   "cell_type": "markdown",
   "id": "52cdbd10-7592-455e-b67b-3205d6c0ab3f",
   "metadata": {},
   "source": [
    "### Total Purchase by Customer"
   ]
  },
  {
   "cell_type": "code",
   "execution_count": 26,
   "id": "285c8b5b-29ae-470e-a688-85050028a449",
   "metadata": {},
   "outputs": [
    {
     "data": {
      "text/html": [
       "<div>\n",
       "<style scoped>\n",
       "    .dataframe tbody tr th:only-of-type {\n",
       "        vertical-align: middle;\n",
       "    }\n",
       "\n",
       "    .dataframe tbody tr th {\n",
       "        vertical-align: top;\n",
       "    }\n",
       "\n",
       "    .dataframe thead th {\n",
       "        text-align: right;\n",
       "    }\n",
       "</style>\n",
       "<table border=\"1\" class=\"dataframe\">\n",
       "  <thead>\n",
       "    <tr style=\"text-align: right;\">\n",
       "      <th></th>\n",
       "      <th>CustomerName</th>\n",
       "      <th>Amount</th>\n",
       "    </tr>\n",
       "  </thead>\n",
       "  <tbody>\n",
       "    <tr>\n",
       "      <th>102</th>\n",
       "      <td>Harivansh</td>\n",
       "      <td>9902</td>\n",
       "    </tr>\n",
       "    <tr>\n",
       "      <th>142</th>\n",
       "      <td>Madhav</td>\n",
       "      <td>9365</td>\n",
       "    </tr>\n",
       "    <tr>\n",
       "      <th>141</th>\n",
       "      <td>Madan Mohan</td>\n",
       "      <td>7766</td>\n",
       "    </tr>\n",
       "    <tr>\n",
       "      <th>259</th>\n",
       "      <td>Shiva</td>\n",
       "      <td>6339</td>\n",
       "    </tr>\n",
       "    <tr>\n",
       "      <th>328</th>\n",
       "      <td>Vishakha</td>\n",
       "      <td>6120</td>\n",
       "    </tr>\n",
       "  </tbody>\n",
       "</table>\n",
       "</div>"
      ],
      "text/plain": [
       "    CustomerName  Amount\n",
       "102    Harivansh    9902\n",
       "142       Madhav    9365\n",
       "141  Madan Mohan    7766\n",
       "259        Shiva    6339\n",
       "328     Vishakha    6120"
      ]
     },
     "execution_count": 26,
     "metadata": {},
     "output_type": "execute_result"
    }
   ],
   "source": [
    "Total_purchase_amount_customer = result_df.groupby(['CustomerName'],as_index=False)['Amount'].sum().sort_values(by='Amount',ascending = False).head(5)\n",
    "Total_purchase_amount_customer"
   ]
  },
  {
   "cell_type": "code",
   "execution_count": 27,
   "id": "66b932ef-5fc6-4dab-bd0f-225206e1d97d",
   "metadata": {},
   "outputs": [
    {
     "data": {
      "image/png": "[encoded data removed]",
      "text/plain": [
       "<Figure size 640x480 with 1 Axes>"
      ]
     },
     "metadata": {},
     "output_type": "display_data"
    }
   ],
   "source": [
    "ax = sns.barplot(x='CustomerName',y='Amount',data=Total_purchase_amount_customer)\n",
    "ax.bar_label(ax.containers[0],fmt='%.2f',label_type='edge',fontsize=9,color='black')\n",
    "ax.set_xticks(ax.get_xticks())\n",
    "ax.set_xticklabels(ax.get_xticklabels(), rotation=45, horizontalalignment='right')\n",
    "plt.show()"
   ]
  },
  {
   "cell_type": "code",
   "execution_count": 28,
   "id": "d147240d-b486-48a9-84cb-2938a0af5ad0",
   "metadata": {},
   "outputs": [
    {
     "data": {
      "text/html": [
       "<div>\n",
       "<style scoped>\n",
       "    .dataframe tbody tr th:only-of-type {\n",
       "        vertical-align: middle;\n",
       "    }\n",
       "\n",
       "    .dataframe tbody tr th {\n",
       "        vertical-align: top;\n",
       "    }\n",
       "\n",
       "    .dataframe thead th {\n",
       "        text-align: right;\n",
       "    }\n",
       "</style>\n",
       "<table border=\"1\" class=\"dataframe\">\n",
       "  <thead>\n",
       "    <tr style=\"text-align: right;\">\n",
       "      <th></th>\n",
       "      <th>Sub-Category</th>\n",
       "      <th>Amount</th>\n",
       "    </tr>\n",
       "  </thead>\n",
       "  <tbody>\n",
       "    <tr>\n",
       "      <th>9</th>\n",
       "      <td>Printers</td>\n",
       "      <td>59252</td>\n",
       "    </tr>\n",
       "    <tr>\n",
       "      <th>10</th>\n",
       "      <td>Saree</td>\n",
       "      <td>59094</td>\n",
       "    </tr>\n",
       "    <tr>\n",
       "      <th>1</th>\n",
       "      <td>Bookcases</td>\n",
       "      <td>56861</td>\n",
       "    </tr>\n",
       "    <tr>\n",
       "      <th>8</th>\n",
       "      <td>Phones</td>\n",
       "      <td>46119</td>\n",
       "    </tr>\n",
       "    <tr>\n",
       "      <th>3</th>\n",
       "      <td>Electronic Games</td>\n",
       "      <td>39168</td>\n",
       "    </tr>\n",
       "  </tbody>\n",
       "</table>\n",
       "</div>"
      ],
      "text/plain": [
       "        Sub-Category  Amount\n",
       "9           Printers   59252\n",
       "10             Saree   59094\n",
       "1          Bookcases   56861\n",
       "8             Phones   46119\n",
       "3   Electronic Games   39168"
      ]
     },
     "execution_count": 28,
     "metadata": {},
     "output_type": "execute_result"
    }
   ],
   "source": [
    "Total_purchase_amount_SubCategory = result_df.groupby(['Sub-Category'],as_index=False)['Amount'].sum().sort_values(by='Amount',ascending = False).head(5)\n",
    "Total_purchase_amount_SubCategory"
   ]
  },
  {
   "cell_type": "code",
   "execution_count": 29,
   "id": "96319d42-91ea-44b6-8cee-85304fa234c6",
   "metadata": {},
   "outputs": [
    {
     "data": {
      "image/png": "[encoded data removed]",
      "text/plain": [
       "<Figure size 640x480 with 1 Axes>"
      ]
     },
     "metadata": {},
     "output_type": "display_data"
    }
   ],
   "source": [
    "ax = sns.barplot(x='Sub-Category',y='Amount',data=Total_purchase_amount_SubCategory)\n",
    "ax.bar_label(ax.containers[0],fmt='%.2f',label_type='edge',fontsize=9,color='black')\n",
    "ax.set_xticks(ax.get_xticks())\n",
    "ax.set_xticklabels(ax.get_xticklabels(), rotation=45, horizontalalignment='right')\n",
    "plt.show()"
   ]
  },
  {
   "cell_type": "code",
   "execution_count": 42,
   "id": "fa2760f7-5859-4499-9f71-51fa7399ec2d",
   "metadata": {},
   "outputs": [
    {
     "data": {
      "text/plain": [
       "Index(['Order ID', 'Amount', 'Profit', 'Quantity', 'Category', 'Sub-Category',\n",
       "       'PaymentMode', 'Order Date', 'CustomerName', 'State', 'City'],\n",
       "      dtype='object')"
      ]
     },
     "execution_count": 42,
     "metadata": {},
     "output_type": "execute_result"
    }
   ],
   "source": [
    "result_df.columns"
   ]
  },
  {
   "cell_type": "code",
   "execution_count": 73,
   "id": "8115af76-d7b7-465e-b49a-2006b437edb6",
   "metadata": {},
   "outputs": [
    {
     "data": {
      "text/html": [
       "<div>\n",
       "<style scoped>\n",
       "    .dataframe tbody tr th:only-of-type {\n",
       "        vertical-align: middle;\n",
       "    }\n",
       "\n",
       "    .dataframe tbody tr th {\n",
       "        vertical-align: top;\n",
       "    }\n",
       "\n",
       "    .dataframe thead th {\n",
       "        text-align: right;\n",
       "    }\n",
       "</style>\n",
       "<table border=\"1\" class=\"dataframe\">\n",
       "  <thead>\n",
       "    <tr style=\"text-align: right;\">\n",
       "      <th></th>\n",
       "      <th>Order ID</th>\n",
       "      <th>Amount</th>\n",
       "      <th>Profit</th>\n",
       "      <th>Quantity</th>\n",
       "      <th>Category</th>\n",
       "      <th>Sub-Category</th>\n",
       "      <th>PaymentMode</th>\n",
       "      <th>Order Date</th>\n",
       "      <th>CustomerName</th>\n",
       "      <th>State</th>\n",
       "      <th>City</th>\n",
       "      <th>month</th>\n",
       "    </tr>\n",
       "  </thead>\n",
       "  <tbody>\n",
       "    <tr>\n",
       "      <th>0</th>\n",
       "      <td>B-25681</td>\n",
       "      <td>1096</td>\n",
       "      <td>658</td>\n",
       "      <td>7</td>\n",
       "      <td>Electronics</td>\n",
       "      <td>Electronic Games</td>\n",
       "      <td>COD</td>\n",
       "      <td>04-06-2018</td>\n",
       "      <td>Bhawna</td>\n",
       "      <td>Madhya Pradesh</td>\n",
       "      <td>Indore</td>\n",
       "      <td>Jun</td>\n",
       "    </tr>\n",
       "    <tr>\n",
       "      <th>1</th>\n",
       "      <td>B-25681</td>\n",
       "      <td>1625</td>\n",
       "      <td>-77</td>\n",
       "      <td>3</td>\n",
       "      <td>Electronics</td>\n",
       "      <td>Phones</td>\n",
       "      <td>EMI</td>\n",
       "      <td>04-06-2018</td>\n",
       "      <td>Bhawna</td>\n",
       "      <td>Madhya Pradesh</td>\n",
       "      <td>Indore</td>\n",
       "      <td>Jun</td>\n",
       "    </tr>\n",
       "    <tr>\n",
       "      <th>2</th>\n",
       "      <td>B-25681</td>\n",
       "      <td>523</td>\n",
       "      <td>204</td>\n",
       "      <td>7</td>\n",
       "      <td>Clothing</td>\n",
       "      <td>Trousers</td>\n",
       "      <td>COD</td>\n",
       "      <td>04-06-2018</td>\n",
       "      <td>Bhawna</td>\n",
       "      <td>Madhya Pradesh</td>\n",
       "      <td>Indore</td>\n",
       "      <td>Jun</td>\n",
       "    </tr>\n",
       "    <tr>\n",
       "      <th>3</th>\n",
       "      <td>B-25681</td>\n",
       "      <td>44</td>\n",
       "      <td>-3</td>\n",
       "      <td>1</td>\n",
       "      <td>Clothing</td>\n",
       "      <td>Saree</td>\n",
       "      <td>Debit Card</td>\n",
       "      <td>04-06-2018</td>\n",
       "      <td>Bhawna</td>\n",
       "      <td>Madhya Pradesh</td>\n",
       "      <td>Indore</td>\n",
       "      <td>Jun</td>\n",
       "    </tr>\n",
       "    <tr>\n",
       "      <th>4</th>\n",
       "      <td>B-25681</td>\n",
       "      <td>243</td>\n",
       "      <td>-14</td>\n",
       "      <td>2</td>\n",
       "      <td>Furniture</td>\n",
       "      <td>Chairs</td>\n",
       "      <td>COD</td>\n",
       "      <td>04-06-2018</td>\n",
       "      <td>Bhawna</td>\n",
       "      <td>Madhya Pradesh</td>\n",
       "      <td>Indore</td>\n",
       "      <td>Jun</td>\n",
       "    </tr>\n",
       "  </tbody>\n",
       "</table>\n",
       "</div>"
      ],
      "text/plain": [
       "  Order ID  Amount  Profit  Quantity     Category      Sub-Category  \\\n",
       "0  B-25681    1096     658         7  Electronics  Electronic Games   \n",
       "1  B-25681    1625     -77         3  Electronics            Phones   \n",
       "2  B-25681     523     204         7     Clothing          Trousers   \n",
       "3  B-25681      44      -3         1     Clothing             Saree   \n",
       "4  B-25681     243     -14         2    Furniture            Chairs   \n",
       "\n",
       "  PaymentMode  Order Date CustomerName           State    City month  \n",
       "0         COD  04-06-2018       Bhawna  Madhya Pradesh  Indore   Jun  \n",
       "1         EMI  04-06-2018       Bhawna  Madhya Pradesh  Indore   Jun  \n",
       "2         COD  04-06-2018       Bhawna  Madhya Pradesh  Indore   Jun  \n",
       "3  Debit Card  04-06-2018       Bhawna  Madhya Pradesh  Indore   Jun  \n",
       "4         COD  04-06-2018       Bhawna  Madhya Pradesh  Indore   Jun  "
      ]
     },
     "execution_count": 73,
     "metadata": {},
     "output_type": "execute_result"
    }
   ],
   "source": [
    "result_df.head()"
   ]
  },
  {
   "cell_type": "code",
   "execution_count": 75,
   "id": "14cd4491-334c-4a3a-ad6a-d669ae42321f",
   "metadata": {},
   "outputs": [],
   "source": [
    "result_df.rename(columns={'Order Date':'Order_Date'},inplace=True)"
   ]
  },
  {
   "cell_type": "code",
   "execution_count": 79,
   "id": "8c44d736-fdcd-4057-a5f4-1a29f3bd2305",
   "metadata": {},
   "outputs": [],
   "source": [
    "result_df['Order_Date'] = pd.to_datetime(result_df['Order_Date'],format='%d-%m-%Y')"
   ]
  },
  {
   "cell_type": "code",
   "execution_count": 83,
   "id": "4573a02d-5fc1-41fe-8d35-bea3cd5c3b4a",
   "metadata": {},
   "outputs": [
    {
     "name": "stdout",
     "output_type": "stream",
     "text": [
      "<class 'pandas.core.frame.DataFrame'>\n",
      "RangeIndex: 1500 entries, 0 to 1499\n",
      "Data columns (total 12 columns):\n",
      " #   Column        Non-Null Count  Dtype         \n",
      "---  ------        --------------  -----         \n",
      " 0   Order ID      1500 non-null   object        \n",
      " 1   Amount        1500 non-null   int64         \n",
      " 2   Profit        1500 non-null   int64         \n",
      " 3   Quantity      1500 non-null   int64         \n",
      " 4   Category      1500 non-null   object        \n",
      " 5   Sub-Category  1500 non-null   object        \n",
      " 6   PaymentMode   1500 non-null   object        \n",
      " 7   Order_Date    1500 non-null   datetime64[ns]\n",
      " 8   CustomerName  1500 non-null   object        \n",
      " 9   State         1500 non-null   object        \n",
      " 10  City          1500 non-null   object        \n",
      " 11  month         1500 non-null   category      \n",
      "dtypes: category(1), datetime64[ns](1), int64(3), object(7)\n",
      "memory usage: 130.9+ KB\n"
     ]
    }
   ],
   "source": [
    "result_df.info()"
   ]
  },
  {
   "cell_type": "code",
   "execution_count": 82,
   "id": "d1315c7a-6897-4042-992c-1fef641821f4",
   "metadata": {},
   "outputs": [],
   "source": [
    "df_orders['month'] = pd.Categorical(pd.to_datetime(df_orders['Order Date'], format='%d-%m-%Y').dt.strftime('%B').str[:3],\n",
    "                                      categories=['Jan', 'Feb', 'Mar', 'Apr', 'May', 'Jun', 'Jul', 'Aug', 'Sep', 'Oct', 'Nov', 'Dec'],\n",
    "                                      ordered=True)\n"
   ]
  },
  {
   "cell_type": "code",
   "execution_count": 88,
   "id": "31c116e0-b200-4c2b-b626-0476eb3d1a76",
   "metadata": {},
   "outputs": [
    {
     "data": {
      "text/html": [
       "<div>\n",
       "<style scoped>\n",
       "    .dataframe tbody tr th:only-of-type {\n",
       "        vertical-align: middle;\n",
       "    }\n",
       "\n",
       "    .dataframe tbody tr th {\n",
       "        vertical-align: top;\n",
       "    }\n",
       "\n",
       "    .dataframe thead th {\n",
       "        text-align: right;\n",
       "    }\n",
       "</style>\n",
       "<table border=\"1\" class=\"dataframe\">\n",
       "  <thead>\n",
       "    <tr style=\"text-align: right;\">\n",
       "      <th></th>\n",
       "      <th>month</th>\n",
       "      <th>Profit</th>\n",
       "    </tr>\n",
       "  </thead>\n",
       "  <tbody>\n",
       "    <tr>\n",
       "      <th>0</th>\n",
       "      <td>Jan</td>\n",
       "      <td>9684</td>\n",
       "    </tr>\n",
       "    <tr>\n",
       "      <th>1</th>\n",
       "      <td>Feb</td>\n",
       "      <td>8465</td>\n",
       "    </tr>\n",
       "    <tr>\n",
       "      <th>2</th>\n",
       "      <td>Mar</td>\n",
       "      <td>7793</td>\n",
       "    </tr>\n",
       "    <tr>\n",
       "      <th>3</th>\n",
       "      <td>Apr</td>\n",
       "      <td>4192</td>\n",
       "    </tr>\n",
       "    <tr>\n",
       "      <th>4</th>\n",
       "      <td>May</td>\n",
       "      <td>-3730</td>\n",
       "    </tr>\n",
       "    <tr>\n",
       "      <th>5</th>\n",
       "      <td>Jun</td>\n",
       "      <td>420</td>\n",
       "    </tr>\n",
       "    <tr>\n",
       "      <th>6</th>\n",
       "      <td>Jul</td>\n",
       "      <td>-2138</td>\n",
       "    </tr>\n",
       "    <tr>\n",
       "      <th>7</th>\n",
       "      <td>Aug</td>\n",
       "      <td>2068</td>\n",
       "    </tr>\n",
       "    <tr>\n",
       "      <th>8</th>\n",
       "      <td>Sep</td>\n",
       "      <td>-1399</td>\n",
       "    </tr>\n",
       "    <tr>\n",
       "      <th>9</th>\n",
       "      <td>Oct</td>\n",
       "      <td>2959</td>\n",
       "    </tr>\n",
       "    <tr>\n",
       "      <th>10</th>\n",
       "      <td>Nov</td>\n",
       "      <td>10253</td>\n",
       "    </tr>\n",
       "    <tr>\n",
       "      <th>11</th>\n",
       "      <td>Dec</td>\n",
       "      <td>-1604</td>\n",
       "    </tr>\n",
       "  </tbody>\n",
       "</table>\n",
       "</div>"
      ],
      "text/plain": [
       "   month  Profit\n",
       "0    Jan    9684\n",
       "1    Feb    8465\n",
       "2    Mar    7793\n",
       "3    Apr    4192\n",
       "4    May   -3730\n",
       "5    Jun     420\n",
       "6    Jul   -2138\n",
       "7    Aug    2068\n",
       "8    Sep   -1399\n",
       "9    Oct    2959\n",
       "10   Nov   10253\n",
       "11   Dec   -1604"
      ]
     },
     "execution_count": 88,
     "metadata": {},
     "output_type": "execute_result"
    }
   ],
   "source": [
    "monthBYProfit = result_df.groupby(['month'],as_index=False,observed=False)['Profit'].sum()\n",
    "monthBYProfit"
   ]
  },
  {
   "cell_type": "code",
   "execution_count": 96,
   "id": "e1c9c728-a88c-491b-a823-3e6e41a24af0",
   "metadata": {},
   "outputs": [
    {
     "data": {
      "image/png": "[encoded data removed]",
      "text/plain": [
       "<Figure size 1000x600 with 1 Axes>"
      ]
     },
     "metadata": {},
     "output_type": "display_data"
    }
   ],
   "source": [
    "plt.figure(figsize=(10,6))\n",
    "ax= sns.barplot(x='month',y='Profit',hue='Profit',data=monthBYProfit,palette='viridis')\n",
    "plt.xlabel('Month')\n",
    "plt.ylabel('Profit')\n",
    "plt.title('Months wise Profit')\n",
    "plt.show()"
   ]
  },
  {
   "cell_type": "code",
   "execution_count": 97,
   "id": "92ddf468-b223-4621-846e-7debbb13658f",
   "metadata": {},
   "outputs": [
    {
     "data": {
      "text/html": [
       "<div>\n",
       "<style scoped>\n",
       "    .dataframe tbody tr th:only-of-type {\n",
       "        vertical-align: middle;\n",
       "    }\n",
       "\n",
       "    .dataframe tbody tr th {\n",
       "        vertical-align: top;\n",
       "    }\n",
       "\n",
       "    .dataframe thead th {\n",
       "        text-align: right;\n",
       "    }\n",
       "</style>\n",
       "<table border=\"1\" class=\"dataframe\">\n",
       "  <thead>\n",
       "    <tr style=\"text-align: right;\">\n",
       "      <th></th>\n",
       "      <th>Category</th>\n",
       "      <th>Profit</th>\n",
       "    </tr>\n",
       "  </thead>\n",
       "  <tbody>\n",
       "    <tr>\n",
       "      <th>0</th>\n",
       "      <td>Clothing</td>\n",
       "      <td>13325</td>\n",
       "    </tr>\n",
       "    <tr>\n",
       "      <th>1</th>\n",
       "      <td>Electronics</td>\n",
       "      <td>13162</td>\n",
       "    </tr>\n",
       "    <tr>\n",
       "      <th>2</th>\n",
       "      <td>Furniture</td>\n",
       "      <td>10476</td>\n",
       "    </tr>\n",
       "  </tbody>\n",
       "</table>\n",
       "</div>"
      ],
      "text/plain": [
       "      Category  Profit\n",
       "0     Clothing   13325\n",
       "1  Electronics   13162\n",
       "2    Furniture   10476"
      ]
     },
     "execution_count": 97,
     "metadata": {},
     "output_type": "execute_result"
    }
   ],
   "source": [
    "categoryProfit = result_df.groupby(['Category'],as_index=False,observed=False)['Profit'].sum()\n",
    "categoryProfit"
   ]
  },
  {
   "cell_type": "code",
   "execution_count": 100,
   "id": "6745f8c8-394c-43e8-b77e-75961e5c3c00",
   "metadata": {},
   "outputs": [
    {
     "data": {
      "image/png": "[encoded data removed]",
      "text/plain": [
       "<Figure size 500x500 with 1 Axes>"
      ]
     },
     "metadata": {},
     "output_type": "display_data"
    }
   ],
   "source": [
    "plt.figure(figsize=(5,5))\n",
    "plt.pie(categoryProfit['Profit'],labels=categoryProfit['Category'],autopct='%1.1f%%',startangle=90,colors=sns.color_palette('pastel'))\n",
    "plt.title('Category wise Profit')\n",
    "plt.show()"
   ]
  },
  {
   "cell_type": "code",
   "execution_count": 103,
   "id": "8a337d0f-8842-4431-a68b-20a0003cef0e",
   "metadata": {},
   "outputs": [
    {
     "data": {
      "text/html": [
       "<div>\n",
       "<style scoped>\n",
       "    .dataframe tbody tr th:only-of-type {\n",
       "        vertical-align: middle;\n",
       "    }\n",
       "\n",
       "    .dataframe tbody tr th {\n",
       "        vertical-align: top;\n",
       "    }\n",
       "\n",
       "    .dataframe thead th {\n",
       "        text-align: right;\n",
       "    }\n",
       "</style>\n",
       "<table border=\"1\" class=\"dataframe\">\n",
       "  <thead>\n",
       "    <tr style=\"text-align: right;\">\n",
       "      <th></th>\n",
       "      <th>Sub-Category</th>\n",
       "      <th>Profit</th>\n",
       "    </tr>\n",
       "  </thead>\n",
       "  <tbody>\n",
       "    <tr>\n",
       "      <th>9</th>\n",
       "      <td>Printers</td>\n",
       "      <td>8606</td>\n",
       "    </tr>\n",
       "    <tr>\n",
       "      <th>1</th>\n",
       "      <td>Bookcases</td>\n",
       "      <td>6516</td>\n",
       "    </tr>\n",
       "    <tr>\n",
       "      <th>10</th>\n",
       "      <td>Saree</td>\n",
       "      <td>4057</td>\n",
       "    </tr>\n",
       "    <tr>\n",
       "      <th>0</th>\n",
       "      <td>Accessories</td>\n",
       "      <td>3353</td>\n",
       "    </tr>\n",
       "    <tr>\n",
       "      <th>15</th>\n",
       "      <td>Tables</td>\n",
       "      <td>3139</td>\n",
       "    </tr>\n",
       "    <tr>\n",
       "      <th>16</th>\n",
       "      <td>Trousers</td>\n",
       "      <td>2847</td>\n",
       "    </tr>\n",
       "    <tr>\n",
       "      <th>13</th>\n",
       "      <td>Stole</td>\n",
       "      <td>2431</td>\n",
       "    </tr>\n",
       "    <tr>\n",
       "      <th>8</th>\n",
       "      <td>Phones</td>\n",
       "      <td>1847</td>\n",
       "    </tr>\n",
       "    <tr>\n",
       "      <th>5</th>\n",
       "      <td>Hankerchief</td>\n",
       "      <td>1823</td>\n",
       "    </tr>\n",
       "    <tr>\n",
       "      <th>2</th>\n",
       "      <td>Chairs</td>\n",
       "      <td>1627</td>\n",
       "    </tr>\n",
       "  </tbody>\n",
       "</table>\n",
       "</div>"
      ],
      "text/plain": [
       "   Sub-Category  Profit\n",
       "9      Printers    8606\n",
       "1     Bookcases    6516\n",
       "10        Saree    4057\n",
       "0   Accessories    3353\n",
       "15       Tables    3139\n",
       "16     Trousers    2847\n",
       "13        Stole    2431\n",
       "8        Phones    1847\n",
       "5   Hankerchief    1823\n",
       "2        Chairs    1627"
      ]
     },
     "execution_count": 103,
     "metadata": {},
     "output_type": "execute_result"
    }
   ],
   "source": [
    "subcategoryProfit = result_df.groupby(['Sub-Category'],as_index=False,observed=False)['Profit'].sum().sort_values(by='Profit',ascending = False).head(10)\n",
    "subcategoryProfit"
   ]
  },
  {
   "cell_type": "code",
   "execution_count": 109,
   "id": "a0087e70-1677-4089-b665-0f192c88c445",
   "metadata": {},
   "outputs": [
    {
     "data": {
      "image/png": "[encoded data removed]",
      "text/plain": [
       "<Figure size 1000x500 with 1 Axes>"
      ]
     },
     "metadata": {},
     "output_type": "display_data"
    }
   ],
   "source": [
    "plt.figure(figsize=(10,5))\n",
    "ax = sns.barplot(x='Sub-Category',y = 'Profit',data=subcategoryProfit)\n",
    "ax.bar_label(ax.containers[0], label_type='edge', fontsize=9, color='black')\n",
    "plt.title('Top 10 Sub-Category wise profit')\n",
    "plt.show()"
   ]
  },
  {
   "cell_type": "code",
   "execution_count": 110,
   "id": "558b5f02-d796-4f17-a6ee-8f35660f0f0b",
   "metadata": {},
   "outputs": [
    {
     "data": {
      "text/html": [
       "<div>\n",
       "<style scoped>\n",
       "    .dataframe tbody tr th:only-of-type {\n",
       "        vertical-align: middle;\n",
       "    }\n",
       "\n",
       "    .dataframe tbody tr th {\n",
       "        vertical-align: top;\n",
       "    }\n",
       "\n",
       "    .dataframe thead th {\n",
       "        text-align: right;\n",
       "    }\n",
       "</style>\n",
       "<table border=\"1\" class=\"dataframe\">\n",
       "  <thead>\n",
       "    <tr style=\"text-align: right;\">\n",
       "      <th></th>\n",
       "      <th>Order ID</th>\n",
       "      <th>Amount</th>\n",
       "      <th>Profit</th>\n",
       "      <th>Quantity</th>\n",
       "      <th>Category</th>\n",
       "      <th>Sub-Category</th>\n",
       "      <th>PaymentMode</th>\n",
       "      <th>Order_Date</th>\n",
       "      <th>CustomerName</th>\n",
       "      <th>State</th>\n",
       "      <th>City</th>\n",
       "      <th>month</th>\n",
       "    </tr>\n",
       "  </thead>\n",
       "  <tbody>\n",
       "    <tr>\n",
       "      <th>0</th>\n",
       "      <td>B-25681</td>\n",
       "      <td>1096</td>\n",
       "      <td>658</td>\n",
       "      <td>7</td>\n",
       "      <td>Electronics</td>\n",
       "      <td>Electronic Games</td>\n",
       "      <td>COD</td>\n",
       "      <td>2018-06-04</td>\n",
       "      <td>Bhawna</td>\n",
       "      <td>Madhya Pradesh</td>\n",
       "      <td>Indore</td>\n",
       "      <td>Jun</td>\n",
       "    </tr>\n",
       "    <tr>\n",
       "      <th>1</th>\n",
       "      <td>B-25681</td>\n",
       "      <td>1625</td>\n",
       "      <td>-77</td>\n",
       "      <td>3</td>\n",
       "      <td>Electronics</td>\n",
       "      <td>Phones</td>\n",
       "      <td>EMI</td>\n",
       "      <td>2018-06-04</td>\n",
       "      <td>Bhawna</td>\n",
       "      <td>Madhya Pradesh</td>\n",
       "      <td>Indore</td>\n",
       "      <td>Jun</td>\n",
       "    </tr>\n",
       "    <tr>\n",
       "      <th>2</th>\n",
       "      <td>B-25681</td>\n",
       "      <td>523</td>\n",
       "      <td>204</td>\n",
       "      <td>7</td>\n",
       "      <td>Clothing</td>\n",
       "      <td>Trousers</td>\n",
       "      <td>COD</td>\n",
       "      <td>2018-06-04</td>\n",
       "      <td>Bhawna</td>\n",
       "      <td>Madhya Pradesh</td>\n",
       "      <td>Indore</td>\n",
       "      <td>Jun</td>\n",
       "    </tr>\n",
       "    <tr>\n",
       "      <th>3</th>\n",
       "      <td>B-25681</td>\n",
       "      <td>44</td>\n",
       "      <td>-3</td>\n",
       "      <td>1</td>\n",
       "      <td>Clothing</td>\n",
       "      <td>Saree</td>\n",
       "      <td>Debit Card</td>\n",
       "      <td>2018-06-04</td>\n",
       "      <td>Bhawna</td>\n",
       "      <td>Madhya Pradesh</td>\n",
       "      <td>Indore</td>\n",
       "      <td>Jun</td>\n",
       "    </tr>\n",
       "    <tr>\n",
       "      <th>4</th>\n",
       "      <td>B-25681</td>\n",
       "      <td>243</td>\n",
       "      <td>-14</td>\n",
       "      <td>2</td>\n",
       "      <td>Furniture</td>\n",
       "      <td>Chairs</td>\n",
       "      <td>COD</td>\n",
       "      <td>2018-06-04</td>\n",
       "      <td>Bhawna</td>\n",
       "      <td>Madhya Pradesh</td>\n",
       "      <td>Indore</td>\n",
       "      <td>Jun</td>\n",
       "    </tr>\n",
       "  </tbody>\n",
       "</table>\n",
       "</div>"
      ],
      "text/plain": [
       "  Order ID  Amount  Profit  Quantity     Category      Sub-Category  \\\n",
       "0  B-25681    1096     658         7  Electronics  Electronic Games   \n",
       "1  B-25681    1625     -77         3  Electronics            Phones   \n",
       "2  B-25681     523     204         7     Clothing          Trousers   \n",
       "3  B-25681      44      -3         1     Clothing             Saree   \n",
       "4  B-25681     243     -14         2    Furniture            Chairs   \n",
       "\n",
       "  PaymentMode Order_Date CustomerName           State    City month  \n",
       "0         COD 2018-06-04       Bhawna  Madhya Pradesh  Indore   Jun  \n",
       "1         EMI 2018-06-04       Bhawna  Madhya Pradesh  Indore   Jun  \n",
       "2         COD 2018-06-04       Bhawna  Madhya Pradesh  Indore   Jun  \n",
       "3  Debit Card 2018-06-04       Bhawna  Madhya Pradesh  Indore   Jun  \n",
       "4         COD 2018-06-04       Bhawna  Madhya Pradesh  Indore   Jun  "
      ]
     },
     "execution_count": 110,
     "metadata": {},
     "output_type": "execute_result"
    }
   ],
   "source": [
    "result_df.head()"
   ]
  },
  {
   "cell_type": "code",
   "execution_count": 89,
   "id": "dc7b7aa2-725d-4bdd-b0f4-04fb18d74102",
   "metadata": {},
   "outputs": [
    {
     "data": {
      "text/plain": [
       "36963"
      ]
     },
     "execution_count": 89,
     "metadata": {},
     "output_type": "execute_result"
    }
   ],
   "source": [
    "result_df['Profit'].sum()"
   ]
  },
  {
   "cell_type": "code",
   "execution_count": 90,
   "id": "784afb40-373c-4be7-90f7-eba1da530b23",
   "metadata": {},
   "outputs": [
    {
     "data": {
      "text/plain": [
       "36963"
      ]
     },
     "execution_count": 90,
     "metadata": {},
     "output_type": "execute_result"
    }
   ],
   "source": [
    "monthBYProfit['Profit'].sum()"
   ]
  },
  {
   "cell_type": "code",
   "execution_count": null,
   "id": "1bcf682d-eb5c-468e-bbd3-aa03c975db7a",
   "metadata": {},
   "outputs": [],
   "source": [
    "Thank ou"
   ]
  }
 ],
 "metadata": {
  "kernelspec": {
   "display_name": "Python 3 (ipykernel)",
   "language": "python",
   "name": "python3"
  },
  "language_info": {
   "codemirror_mode": {
    "name": "ipython",
    "version": 3
   },
   "file_extension": ".py",
   "mimetype": "text/x-python",
   "name": "python",
   "nbconvert_exporter": "python",
   "pygments_lexer": "ipython3",
   "version": "3.12.0"
  }
 },
 "nbformat": 4,
 "nbformat_minor": 5
}
